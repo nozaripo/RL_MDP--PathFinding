{
 "cells": [
  {
   "cell_type": "markdown",
   "id": "f23f0ae9",
   "metadata": {},
   "source": [
    "# A small bear-honey grid world\n",
    "## Initial Setup\n",
    "We will use the MDP to solve for the optimal policy used by the bear to get to honey in this small grid world <img src=\"MDP Bear.png\">"
   ]
  },
  {
   "cell_type": "code",
   "execution_count": null,
   "id": "a675d427",
   "metadata": {},
   "outputs": [],
   "source": [
    "import numpy as np\n",
    "\n",
    "'''==================================================\n",
    "Initial set up\n",
    "=================================================='''\n",
    "\n",
    "#Hyperparameters\n",
    "SMALL_ENOUGH = 0.005\n",
    "GAMMA = 0.9         \n",
    "NOISE = 0.1  \n"
   ]
  },
  {
   "cell_type": "code",
   "execution_count": null,
   "id": "07198760",
   "metadata": {},
   "outputs": [],
   "source": [
    "#Define all states\n",
    "all_states=[]\n",
    "for i in range(3):\n",
    "    for j in range(4):\n",
    "            all_states.append((i,j))\n",
    "            \n",
    "print('The states are : \\n %s' %all_states)\n"
   ]
  },
  {
   "cell_type": "code",
   "execution_count": null,
   "id": "d96a5d16",
   "metadata": {},
   "outputs": [],
   "source": [
    "#Define rewards for all states\n",
    "rewards = {}\n",
    "for i in all_states:\n",
    "    if i == (1,2):\n",
    "        rewards[i] = -1\n",
    "    elif i == (2,2):\n",
    "        rewards[i] = -1\n",
    "    elif i == (2,3):\n",
    "        rewards[i] = 1\n",
    "    else:\n",
    "        rewards[i] = 0\n",
    "        \n",
    "print('Reward Matrix is = \\n%s' %(rewards))"
   ]
  },
  {
   "cell_type": "code",
   "execution_count": null,
   "id": "e74b4c06",
   "metadata": {},
   "outputs": [],
   "source": [
    "#Dictionnary of possible actions. We have two \"end\" states (1,2 and 2,2)\n",
    "actions = {\n",
    "    (0,0):('D', 'R'), \n",
    "    (0,1):('D', 'R', 'L'),    \n",
    "    (0,2):('D', 'L', 'R'),\n",
    "    (0,3):('D', 'L'),\n",
    "    (1,0):('D', 'U', 'R'),\n",
    "    (1,1):('D', 'R', 'L', 'U'),\n",
    "    (1,3):('D', 'L', 'U'),\n",
    "    (2,0):('U', 'R'),\n",
    "    (2,1):('U', 'L', 'R'),\n",
    "    }"
   ]
  },
  {
   "cell_type": "code",
   "execution_count": null,
   "id": "87be7274",
   "metadata": {},
   "outputs": [],
   "source": [
    "#Define an initial policy\n",
    "policy={}\n",
    "for s in actions.keys():\n",
    "    policy[s] = np.random.choice(actions[s])\n",
    "\n",
    "print('action.keys= \\n %s' %actions.keys())\n",
    "print('Policy = \\n %s' %policy)"
   ]
  },
  {
   "cell_type": "code",
   "execution_count": null,
   "id": "01845b3a",
   "metadata": {},
   "outputs": [],
   "source": [
    "#Define initial value function \n",
    "V={}\n",
    "for s in all_states:\n",
    "    if s in actions.keys():\n",
    "        V[s] = 0\n",
    "    if s ==(2,2):\n",
    "        V[s]=-1\n",
    "    if s == (1,2):\n",
    "        V[s]=-1\n",
    "    if s == (2,3):\n",
    "        V[s]=1\n",
    "        \n",
    "s in all_states\n",
    "\n",
    "all_states"
   ]
  },
  {
   "cell_type": "code",
   "execution_count": null,
   "id": "b27e12a6",
   "metadata": {},
   "outputs": [],
   "source": [
    "while True:\n",
    "    biggest_change = 0\n",
    "    for s in all_states:            \n",
    "        if s in policy:\n",
    "            \n",
    "            old_v = V[s]\n",
    "            new_v = 0\n",
    "            \n",
    "            for a in actions[s]:\n",
    "                if a == 'U':\n",
    "                    nxt = [s[0]-1, s[1]]\n",
    "                if a == 'D':\n",
    "                    nxt = [s[0]+1, s[1]]\n",
    "                if a == 'L':\n",
    "                    nxt = [s[0], s[1]-1]\n",
    "                if a == 'R':\n",
    "                    nxt = [s[0], s[1]+1]\n",
    "\n",
    "                #Choose a new random action to do (transition probability)\n",
    "                random_1=np.random.choice([i for i in actions[s] if i != a])\n",
    "                \n",
    "                print(a)\n",
    "                \n",
    "                [i for i in actions[s] if i!=a]\n",
    "                \n",
    "# print(random_1)"
   ]
  },
  {
   "cell_type": "markdown",
   "id": "789ef20e",
   "metadata": {},
   "source": [
    "## Value Iteration "
   ]
  },
  {
   "cell_type": "code",
   "execution_count": null,
   "id": "c7860469",
   "metadata": {},
   "outputs": [],
   "source": [
    "'''==================================================\n",
    "Value Iteration\n",
    "=================================================='''\n",
    "\n",
    "iteration = 0\n",
    "while True:\n",
    "    biggest_change = 0\n",
    "    for s in all_states:            \n",
    "        if s in policy:\n",
    "            \n",
    "            old_v = V[s]\n",
    "            new_v = 0\n",
    "            \n",
    "            for a in actions[s]:\n",
    "                if a == 'U':\n",
    "                    nxt = [s[0]-1, s[1]]\n",
    "                if a == 'D':\n",
    "                    nxt = [s[0]+1, s[1]]\n",
    "                if a == 'L':\n",
    "                    nxt = [s[0], s[1]-1]\n",
    "                if a == 'R':\n",
    "                    nxt = [s[0], s[1]+1]\n",
    "\n",
    "                #Choose a new random action to do (transition probability)\n",
    "                random_1=np.random.choice([i for i in actions[s] if i != a])\n",
    "                if random_1 == 'U':\n",
    "                    act = [s[0]-1, s[1]]\n",
    "                if random_1 == 'D':\n",
    "                    act = [s[0]+1, s[1]]\n",
    "                if random_1 == 'L':\n",
    "                    act = [s[0], s[1]-1]\n",
    "                if random_1 == 'R':\n",
    "                    act = [s[0], s[1]+1]\n",
    "\n",
    "                #Calculate the value\n",
    "                nxt = tuple(nxt)\n",
    "                act = tuple(act)\n",
    "                v = rewards[s] + (GAMMA * ((1-NOISE)* V[nxt] + (NOISE * V[act]))) \n",
    "                if v > new_v: #Is this the best action so far? If so, keep it\n",
    "                    new_v = v\n",
    "                    policy[s] = a\n",
    "\n",
    "       #Save the best of all actions for the state                                 \n",
    "            V[s] = new_v\n",
    "            biggest_change = max(biggest_change, np.abs(old_v - V[s]))\n",
    "         \n",
    "   #See if the loop should stop now         \n",
    "    if biggest_change < SMALL_ENOUGH:\n",
    "        break\n",
    "    iteration += 1\n",
    "    #print('Iteration %s :   Max(V) = %s' %iteration %np.maximum(V) )\n",
    "    print(\"Iteration \", iteration, \":   Max(V) = \", V)\n",
    "\n",
    "\n"
   ]
  },
  {
   "cell_type": "code",
   "execution_count": null,
   "id": "e578ddf1",
   "metadata": {},
   "outputs": [],
   "source": [
    "print('The optimal V(s) is : \\n %s' %V)\n",
    "\n",
    "print('The optimal policy is : \\n %s' %policy)"
   ]
  },
  {
   "cell_type": "markdown",
   "id": "bf3b872d",
   "metadata": {},
   "source": [
    "The optimal state value function is:  <img src=\"Optimal State Value.png\"  width=\"400\">\n",
    "\n",
    "The optimal policy is:  <img src=\"Optimal Policy.png\"  width=\"400\">"
   ]
  }
 ],
 "metadata": {
  "kernelspec": {
   "display_name": "Python 3",
   "language": "python",
   "name": "python3"
  },
  "language_info": {
   "codemirror_mode": {
    "name": "ipython",
    "version": 3
   },
   "file_extension": ".py",
   "mimetype": "text/x-python",
   "name": "python",
   "nbconvert_exporter": "python",
   "pygments_lexer": "ipython3",
   "version": "3.8.8"
  }
 },
 "nbformat": 4,
 "nbformat_minor": 5
}
